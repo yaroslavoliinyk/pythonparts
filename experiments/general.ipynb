{
 "cells": [
  {
   "cell_type": "code",
   "execution_count": null,
   "metadata": {},
   "outputs": [],
   "source": [
    "slab = Block(x, y, z)\n",
    "column = Block(k, n, p)\n",
    "\n",
    "slab.add_child(column, \n",
    "                anchor=(\n",
    "                    pp.LEFT(100),\n",
    "                    pp.TOP(200),\n",
    "                    pp.START()\n",
    "                )   \n",
    ")\n",
    "\n",
    "column_stirrup = Stirrup(\n",
    "\n",
    ")"
   ]
  }
 ],
 "metadata": {
  "language_info": {
   "name": "python"
  },
  "orig_nbformat": 4
 },
 "nbformat": 4,
 "nbformat_minor": 2
}
