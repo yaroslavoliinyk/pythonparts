{
 "cells": [
  {
   "cell_type": "code",
   "execution_count": 3,
   "metadata": {},
   "outputs": [],
   "source": [
    "import tkinter as tk\n",
    "\n",
    "root = tk.Tk()\n",
    "\n",
    "label = tk.Label(root, text=\"Hello, world!\")\n",
    "label.pack(anchor=tk.SE)  # Anchors the label to the top-left corner\n",
    "\n",
    "root.mainloop()\n"
   ]
  },
  {
   "cell_type": "code",
   "execution_count": 4,
   "metadata": {},
   "outputs": [
    {
     "ename": "",
     "evalue": "",
     "output_type": "error",
     "traceback": [
      "\u001b[1;31mCanceled future for execute_request message before replies were done"
     ]
    },
    {
     "ename": "",
     "evalue": "",
     "output_type": "error",
     "traceback": [
      "\u001b[1;31mThe Kernel crashed while executing code in the the current cell or a previous cell. Please review the code in the cell(s) to identify a possible cause of the failure. Click <a href='https://aka.ms/vscodeJupyterKernelCrash'>here</a> for more info. View Jupyter <a href='command:jupyter.viewOutput'>log</a> for further details."
     ]
    }
   ],
   "source": [
    "import tkinter as tk\n",
    "\n",
    "root = tk.Tk()\n",
    "\n",
    "button = tk.Button(root, text=\"Click me!\")\n",
    "button.pack(anchor=tk.SE)  # Anchors the button to the bottom-right corner\n",
    "\n",
    "root.mainloop()\n"
   ]
  },
  {
   "cell_type": "code",
   "execution_count": 1,
   "metadata": {},
   "outputs": [
    {
     "ename": "TypeError",
     "evalue": "unsupported operand type(s) for |: 'str' and 'str'",
     "output_type": "error",
     "traceback": [
      "\u001b[0;31m---------------------------------------------------------------------------\u001b[0m",
      "\u001b[0;31mTypeError\u001b[0m                                 Traceback (most recent call last)",
      "Cell \u001b[0;32mIn[1], line 9\u001b[0m\n\u001b[1;32m      6\u001b[0m button\u001b[39m.\u001b[39mpack(anchor\u001b[39m=\u001b[39mtk\u001b[39m.\u001b[39mSE)  \u001b[39m# Anchors the button to the bottom-right corner\u001b[39;00m\n\u001b[1;32m      8\u001b[0m \u001b[39m# Configure the button's anchor to include both right and bottom\u001b[39;00m\n\u001b[0;32m----> 9\u001b[0m button\u001b[39m.\u001b[39mconfigure(anchor\u001b[39m=\u001b[39mtk\u001b[39m.\u001b[39;49mSE\u001b[39m|\u001b[39;49mtk\u001b[39m.\u001b[39;49mS)\n\u001b[1;32m     11\u001b[0m root\u001b[39m.\u001b[39mmainloop()\n",
      "\u001b[0;31mTypeError\u001b[0m: unsupported operand type(s) for |: 'str' and 'str'"
     ]
    }
   ],
   "source": [
    "import tkinter as tk\n",
    "\n",
    "root = tk.Tk()\n",
    "\n",
    "button = tk.Button(root, text=\"Click me!\")\n",
    "button.pack(anchor=tk.SE)  # Anchors the button to the bottom-right corner\n",
    "\n",
    "# Configure the button's anchor to include both right and bottom\n",
    "button.configure(anchor=tk.SE|tk.S)\n",
    "\n",
    "root.mainloop()\n"
   ]
  },
  {
   "cell_type": "code",
   "execution_count": 2,
   "metadata": {},
   "outputs": [],
   "source": [
    "import tkinter as tk\n",
    "\n",
    "root = tk.Tk()\n",
    "\n",
    "button = tk.Button(root, text=\"Click me!\")\n",
    "button.pack(anchor=tk.SE, side=tk.BOTTOM)  # Anchors the button to the bottom-right corner\n",
    "\n",
    "root.mainloop()\n"
   ]
  },
  {
   "cell_type": "code",
   "execution_count": null,
   "metadata": {},
   "outputs": [],
   "source": []
  }
 ],
 "metadata": {
  "kernelspec": {
   "display_name": "allplan_env",
   "language": "python",
   "name": "python3"
  },
  "language_info": {
   "codemirror_mode": {
    "name": "ipython",
    "version": 3
   },
   "file_extension": ".py",
   "mimetype": "text/x-python",
   "name": "python",
   "nbconvert_exporter": "python",
   "pygments_lexer": "ipython3",
   "version": "3.11.4"
  },
  "orig_nbformat": 4
 },
 "nbformat": 4,
 "nbformat_minor": 2
}
